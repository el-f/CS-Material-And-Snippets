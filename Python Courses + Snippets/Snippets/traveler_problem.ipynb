{
 "cells": [
  {
   "cell_type": "markdown",
   "source": [
    "#### Transitions from each city to its connected cities, accompanied by the transition price\n",
    "\n",
    "![transitions diagram](https://user-images.githubusercontent.com/39451680/117019510-20fc2c00-acfe-11eb-8972-1fa44d6e6113.png \"transitions diagram\")"
   ],
   "metadata": {
    "collapsed": false
   }
  },
  {
   "cell_type": "code",
   "execution_count": 1,
   "metadata": {
    "collapsed": true
   },
   "outputs": [],
   "source": [
    "# {city1: ((city2, price12),...), ... , cityN: (...)}\n",
    "transitions = {\n",
    "    '1': (('2', 2), ('3', 5), ('4', 1)),\n",
    "    '2': (('5', 10), ('6', 12)),\n",
    "    '3': (('5', 5), ('6', 10), ('7', 7)),\n",
    "    '4': (('6', 15), ('7', 13)),\n",
    "    '5': (('8', 7), ('9', 5)),\n",
    "    '6': (('8', 3), ('9', 4)),\n",
    "    '7': (('8', 7), ('9', 1)),\n",
    "    '8': (('10', 1),),\n",
    "    '9': (('10', 4),),\n",
    "}\n"
   ]
  },
  {
   "cell_type": "markdown",
   "source": [
    "#### Implementation without memoization:"
   ],
   "metadata": {
    "collapsed": false
   }
  },
  {
   "cell_type": "code",
   "source": [
    "func_calls_naive = 0\n",
    "\n",
    "def get_cheapest_route_naive(current_city='1', path='') -> tuple[str, int]:\n",
    "    if current_city == '10':\n",
    "        return path + '10', 0\n",
    "\n",
    "    global func_calls_naive\n",
    "    route_price_pair = '', float('inf')\n",
    "    for t in transitions[current_city]:\n",
    "        func_calls_naive += 1\n",
    "        next_route = get_cheapest_route_naive(t[0], current_city + \" -> \")\n",
    "\n",
    "        price = t[1] + next_route[1]\n",
    "        if price < route_price_pair[1]:\n",
    "            route_price_pair = path + next_route[0], price\n",
    "\n",
    "    return route_price_pair\n",
    "\n",
    "\n",
    "CRN = get_cheapest_route_naive()\n",
    "print(f\"best route:\\t{CRN[0]}\")\n",
    "print(f\"cost:\\t\\t{CRN[1]}\")\n",
    "print(\"num of function calls:\", func_calls_naive)"
   ],
   "metadata": {
    "collapsed": false,
    "pycharm": {
     "name": "#%%\n"
    }
   },
   "execution_count": 2,
   "outputs": [
    {
     "name": "stdout",
     "output_type": "stream",
     "text": [
      "best route:\t1 -> 3 -> 7 -> 9 -> 10\n",
      "cost:\t\t17\n",
      "num of function calls: 38\n"
     ]
    }
   ]
  },
  {
   "cell_type": "markdown",
   "source": [
    "#### Implementation *with* memoization:\n"
   ],
   "metadata": {
    "collapsed": false
   }
  },
  {
   "cell_type": "code",
   "execution_count": 3,
   "outputs": [
    {
     "name": "stdout",
     "output_type": "stream",
     "text": [
      "route from city '1' not found in cache, computing...\n",
      "route from city '2' not found in cache, computing...\n",
      "route from city '5' not found in cache, computing...\n",
      "route from city '8' not found in cache, computing...\n",
      "route from city '9' not found in cache, computing...\n",
      "route from city '6' not found in cache, computing...\n",
      "best route from city '8' found in cache!\n",
      "best route from city '9' found in cache!\n",
      "route from city '3' not found in cache, computing...\n",
      "best route from city '5' found in cache!\n",
      "best route from city '6' found in cache!\n",
      "route from city '7' not found in cache, computing...\n",
      "best route from city '8' found in cache!\n",
      "best route from city '9' found in cache!\n",
      "route from city '4' not found in cache, computing...\n",
      "best route from city '6' found in cache!\n",
      "best route from city '7' found in cache!\n",
      "\n",
      "best route:\t1 -> 3 -> 7 -> 9 -> 10\n",
      "cost:\t\t17\n",
      "num of function calls: 18\n"
     ]
    }
   ],
   "source": [
    "func_calls = 0\n",
    "cache = {}\n",
    "\n",
    "def get_cheapest_route(current_city='1', path='') -> tuple[str, int]:\n",
    "    if current_city == '10':\n",
    "        return ' -> 10', 0\n",
    "\n",
    "    if current_city in cache:\n",
    "        print(f\"best route from city '{current_city}' found in cache!\")\n",
    "        res = cache[current_city]\n",
    "        return path + current_city + res[0], res[1]\n",
    "    else:\n",
    "        print(f\"route from city '{current_city}' not found in cache, computing...\")\n",
    "\n",
    "    global func_calls\n",
    "    route_price_pair = '', float('inf')\n",
    "    next_route = ()\n",
    "    for t in transitions[current_city]:\n",
    "        func_calls += 1\n",
    "        next_route = get_cheapest_route(t[0], current_city + \" -> \")\n",
    "\n",
    "        price = t[1] + next_route[1]\n",
    "        if price < route_price_pair[1]:\n",
    "            route_price_pair = path + next_route[0], price\n",
    "\n",
    "    cache[current_city] = next_route[0], route_price_pair[1]\n",
    "    return route_price_pair\n",
    "\n",
    "\n",
    "CR = get_cheapest_route()\n",
    "print()\n",
    "print(f\"best route:\\t{CR[0]}\")\n",
    "print(f\"cost:\\t\\t{CR[1]}\")\n",
    "print(\"num of function calls:\", func_calls)"
   ],
   "metadata": {
    "collapsed": false,
    "pycharm": {
     "name": "#%%\n"
    }
   }
  }
 ],
 "metadata": {
  "kernelspec": {
   "display_name": "Python 3",
   "language": "python",
   "name": "python3"
  },
  "language_info": {
   "codemirror_mode": {
    "name": "ipython",
    "version": 2
   },
   "file_extension": ".py",
   "mimetype": "text/x-python",
   "name": "python",
   "nbconvert_exporter": "python",
   "pygments_lexer": "ipython2",
   "version": "2.7.6"
  }
 },
 "nbformat": 4,
 "nbformat_minor": 0
}
