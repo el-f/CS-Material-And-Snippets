{
 "cells": [
  {
   "cell_type": "markdown",
   "metadata": {
    "slideshow": {
     "slide_type": "slide"
    }
   },
   "source": [
    "# $$.9\\overline{9} = 1?$$\n",
    "\n",
    "# <center>Why every proof you have seen is WRONG</center>"
   ]
  },
  {
   "cell_type": "markdown",
   "metadata": {
    "slideshow": {
     "slide_type": "fragment"
    }
   },
   "source": [
    "Don't worry, **it is true**. Just the \"proofs\" you've seen are wrong."
   ]
  },
  {
   "cell_type": "markdown",
   "metadata": {
    "slideshow": {
     "slide_type": "slide"
    }
   },
   "source": [
    "# First, why the common \"proofs\" are wrong\n",
    "# Then, an actual proof"
   ]
  },
  {
   "cell_type": "markdown",
   "metadata": {
    "slideshow": {
     "slide_type": "slide"
    }
   },
   "source": [
    "# Algebraic \"proofs\" are ALL wrong\n",
    "\n",
    "$$\n",
    "\\begin{align}\n",
    "x &:= .9\\overline{9} &&&1/3 &= .3\\overline{3} \\\\\n",
    "10x &= 9.9\\overline{9} &\\text {or}&& 3\\cdot (1/3) &= 3\\cdot(.3\\overline{3})\\\\\n",
    "9x &= 9 &&& 1 &= .9\\overline{9}\\\\\n",
    "x &= 1\n",
    "\\end{align}\n",
    "$$\n",
    "All algebraic proofs are wrong because there are algebras where $.9\\overline{9} \\neq 1$."
   ]
  },
  {
   "cell_type": "markdown",
   "metadata": {
    "slideshow": {
     "slide_type": "subslide"
    }
   },
   "source": [
    "$$\n",
    "\\begin{align}\n",
    "x &:= \\bf\\color{red}{.9\\overline{9}} &&&1/3 &= \\bf\\color{red}{.3\\overline{3}} \\\\\n",
    "10x &= 9.9\\overline{9} &\\text {or}&& 3\\cdot (1/3) &= 3\\cdot(.3\\overline{3})\\\\\n",
    "9x &= 9 &&& 1 &= .9\\overline{9}\\\\\n",
    "x &= 1\n",
    "\\end{align}\n",
    "$$\n",
    "You have already assumed part of the conclusion, that $\\color{red}{.9\\overline{9}}$ or $\\color{red}{.3\\overline{3}}$ even *exists*."
   ]
  },
  {
   "cell_type": "markdown",
   "metadata": {
    "slideshow": {
     "slide_type": "subslide"
    }
   },
   "source": [
    "$$\n",
    "\\begin{align}\n",
    "x &:= \\bf\\color{red}{\\overline{9}.} \\\\\n",
    "10x &= \\overline{9}0.  \\\\\n",
    "10x+9 &= x\\\\\n",
    "9x &= -9\\\\\n",
    "x &= -1\n",
    "\\end{align}\n",
    "$$\n",
    "So do you believe that $...99999999.0 = -1$?"
   ]
  },
  {
   "cell_type": "markdown",
   "metadata": {
    "slideshow": {
     "slide_type": "subslide"
    }
   },
   "source": [
    "$$\\color{green}{\n",
    "\\begin{align}\n",
    "\\color{black}{x} &\\color{black}{:= .9\\overline{9}} &&&1/3 &= .3\\overline{3} \\\\\n",
    "10x &= 9.9\\overline{9} &\\color{black}{\\text {or}}&& 3\\cdot (1/3) &= 3\\cdot(.3\\overline{3})\\\\\n",
    "9x &= 9 &&& 1 &= .9\\overline{9}\\\\\n",
    "x &= 1\n",
    "\\end{align}}\n",
    "$$\n",
    "Okay, suppose you are willing to believe $.9\\overline{9}$ is a real number, what else is wrong?"
   ]
  },
  {
   "cell_type": "markdown",
   "metadata": {
    "slideshow": {
     "slide_type": "subslide"
    }
   },
   "source": [
    "$$\n",
    "\\begin{align}\n",
    "&&x &:= .9\\overline{9} &&&&&1/3 &= .3\\overline{3} \\\\\n",
    "\\implies&& 10x &= 9.9\\overline{9} &\\text {or}&&&\\implies& 3\\cdot (1/3) &= 3\\cdot(.3\\overline{3})\\\\\n",
    "\\implies&&9x &= 9 &&&&\\implies& 1 &= .9\\overline{9}\\\\\n",
    "\\implies&& x &= 1\n",
    "\\end{align}\n",
    "$$"
   ]
  },
  {
   "cell_type": "markdown",
   "metadata": {
    "slideshow": {
     "slide_type": "subslide"
    }
   },
   "source": [
    "$$\n",
    "\\begin{align}\n",
    "&&x &:= .9\\overline{9} &&&&&1/3 &= .3\\overline{3} \\\\\n",
    "\\color{red}{\\implies}&& 10x &= 9.9\\overline{9} &\\text {or}&&&\\implies& 3\\cdot (1/3) &= 3\\cdot(.3\\overline{3})\\\\\n",
    "\\implies&&9x &= 9 &&&&\\bf\\color{red}{\\implies}& 1 &= .9\\overline{9}\\\\\n",
    "\\implies&& x &= 1\n",
    "\\end{align}\n",
    "$$\n",
    "\n",
    "*Why* does $10 \\cdot (.9\\overline{9}) = 9.9\\overline{9}$?\n",
    "*Why* does $3 \\cdot (.3\\overline{3}) = .9\\overline{9}$?"
   ]
  },
  {
   "cell_type": "markdown",
   "metadata": {
    "slideshow": {
     "slide_type": "subslide"
    }
   },
   "source": [
    "$$\n",
    "\\begin{align}\n",
    "x &:= .9\\overline{9} &&&1/3 &\\color{red}{=} .3\\overline{3} \\\\\n",
    "10x &= 9.9\\overline{9} &\\text {or}&& 3\\cdot (1/3) &= 3\\cdot(.3\\overline{3})\\\\\n",
    "9x &= 9 &&& 1 &= .9\\overline{9}\\\\\n",
    "x &= 1\n",
    "\\end{align}\n",
    "$$\n",
    "Isn't $1/3 \\color{red}{=} .3\\overline{3}$ just as mysterious? Why believe it?"
   ]
  },
  {
   "cell_type": "markdown",
   "metadata": {
    "slideshow": {
     "slide_type": "slide"
    }
   },
   "source": [
    "# The real source of confusion: definition\n",
    "\n",
    "What does $.9\\overline{9}$ actually mean?\n",
    "\n",
    "It is **NOT** a mystical infinite sequence of $9$'s after a decimal point."
   ]
  },
  {
   "cell_type": "markdown",
   "metadata": {
    "slideshow": {
     "slide_type": "subslide"
    }
   },
   "source": [
    "The definition of $.9\\overline{9}$:\n",
    "$$\n",
    "\\begin{align}\n",
    "x_1 &:= .9,\\\\ \n",
    "x_2 &:= .99,\\\\\n",
    "x_3 &:= .999, \\ldots \\\\\n",
    "x_n &:= \\sum_{i=1}^n 9 \\cdot 10^{-i} = \\underbrace{.9999}_{n}.\n",
    "\\end{align}\n",
    "$$\n",
    "\n",
    "Then $.9\\overline{9}$ is **defined** to be the number that the sequence $$\n",
    "(x_n)_n = (.9, .99, .999, \\cdots)\n",
    "$$ approaches, **if it exists**. That is, it is by definition the limit of the sequence."
   ]
  },
  {
   "cell_type": "markdown",
   "metadata": {
    "slideshow": {
     "slide_type": "subslide"
    }
   },
   "source": [
    "For any repeating decimal, we use the same process to define it.\n",
    "\n",
    "E.g. for $2.64\\overline{51}$ you would use the sequence \n",
    "$$\n",
    "(2.645, 2.6451, 2.64515, 2.645151, 2.6451515, \\cdots).\n",
    "$$"
   ]
  },
  {
   "cell_type": "markdown",
   "metadata": {
    "slideshow": {
     "slide_type": "slide"
    }
   },
   "source": [
    "# So what is $.9\\overline{9} = 1$ even claiming?\n",
    "\n",
    "\n",
    "It is simply claiming that $$(.9, .99, .999, \\cdots)$$ does approach a real number, and that number is $1$.\n"
   ]
  },
  {
   "cell_type": "code",
   "execution_count": 1,
   "metadata": {
    "scrolled": true,
    "slideshow": {
     "slide_type": "subslide"
    }
   },
   "outputs": [
    {
     "data": {
      "image/png": "[encoded data removed]",
      "text/plain": [
       "<Figure size 432x288 with 1 Axes>"
      ]
     },
     "metadata": {
      "needs_background": "light"
     },
     "output_type": "display_data"
    }
   ],
   "source": [
    "import numpy as np\n",
    "import matplotlib.pyplot as plt\n",
    "\n",
    "N = np.arange(1, 10)\n",
    "X = np.cumsum(9 * np.power(10.,-N))\n",
    "\n",
    "plt.axhline(1.0, color=\"grey\", linestyle=\"dotted\")\n",
    "plt.plot(N, X, marker=\"x\");"
   ]
  },
  {
   "cell_type": "markdown",
   "metadata": {
    "slideshow": {
     "slide_type": "subslide"
    }
   },
   "source": [
    "# Proof (trivial)\n",
    "\n",
    "Compute\n",
    "$$\n",
    "|x_n - 1| = |  \\underbrace{.9999}_{n} - 1| = 10^{-n}.\n",
    "$$\n",
    "For any tolerance $\\epsilon>0$, for any $n > 1/\\epsilon$, we have\n",
    "$$\n",
    "|x_n - 1| = 10^{-n} < 1/n < \\epsilon. \n",
    "$$\n",
    "This formally shows that $x_n$ approaches 1, but you already knew that."
   ]
  },
  {
   "cell_type": "markdown",
   "metadata": {
    "slideshow": {
     "slide_type": "slide"
    }
   },
   "source": [
    "# Honorable mentions\n",
    "\n"
   ]
  },
  {
   "cell_type": "markdown",
   "metadata": {
    "slideshow": {
     "slide_type": "slide"
    }
   },
   "source": [
    "# Thanks!"
   ]
  },
  {
   "cell_type": "code",
   "execution_count": null,
   "metadata": {
    "slideshow": {
     "slide_type": "-"
    }
   },
   "outputs": [],
   "source": [
    "like()\n",
    "comment()\n",
    "subscribe()\n",
    "while True:\n",
    "    try:\n",
    "        tell_friends()\n",
    "    except KeyError:\n",
    "        tell_family()\n",
    "    await asyncio.sleep(60*60*24)"
   ]
  }
 ],
 "metadata": {
  "celltoolbar": "Slideshow",
  "kernelspec": {
   "display_name": "Python 3",
   "language": "python",
   "name": "python3"
  },
  "language_info": {
   "codemirror_mode": {
    "name": "ipython",
    "version": 3
   },
   "file_extension": ".py",
   "mimetype": "text/x-python",
   "name": "python",
   "nbconvert_exporter": "python",
   "pygments_lexer": "ipython3",
   "version": "3.9.0"
  },
  "varInspector": {
   "cols": {
    "lenName": 16,
    "lenType": 16,
    "lenVar": 40
   },
   "kernels_config": {
    "python": {
     "delete_cmd_postfix": "",
     "delete_cmd_prefix": "del ",
     "library": "var_list.py",
     "varRefreshCmd": "print(var_dic_list())"
    },
    "r": {
     "delete_cmd_postfix": ") ",
     "delete_cmd_prefix": "rm(",
     "library": "var_list.r",
     "varRefreshCmd": "cat(var_dic_list()) "
    }
   },
   "types_to_exclude": [
    "module",
    "function",
    "builtin_function_or_method",
    "instance",
    "_Feature"
   ],
   "window_display": false
  }
 },
 "nbformat": 4,
 "nbformat_minor": 4
}
