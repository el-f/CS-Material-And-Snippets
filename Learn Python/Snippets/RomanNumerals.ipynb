{
 "cells": [
  {
   "cell_type": "markdown",
   "source": [
    "# Convert integer to a roman numeral"
   ],
   "metadata": {
    "collapsed": false
   }
  },
  {
   "cell_type": "code",
   "execution_count": 1,
   "id": "ready-warrior",
   "metadata": {},
   "outputs": [],
   "source": [
    "itr_dict = {\n",
    "    1000:   'M',\n",
    "    900:    'CM',\n",
    "    500:    'D',\n",
    "    400:    'CD',\n",
    "    100:    'C',\n",
    "    90:     'XC',\n",
    "    50:     'L',\n",
    "    40:     'XL',\n",
    "    10:     'X',\n",
    "    9:      'IX',\n",
    "    5:      'V',\n",
    "    4:      'IV',\n",
    "    1:      'I',\n",
    "}\n",
    "\n",
    "def int_to_roman(num):\n",
    "    if num > 0:\n",
    "        result = \"\"\n",
    "        for key in itr_dict.keys():\n",
    "            case_occurrences = num // key\n",
    "            if case_occurrences >= 1:\n",
    "                result  += itr_dict[key]  * case_occurrences\n",
    "                num     -= key              * case_occurrences\n",
    "        return result"
   ]
  },
  {
   "cell_type": "markdown",
   "id": "pregnant-slide",
   "metadata": {},
   "source": [
    "# Tests:"
   ]
  },
  {
   "cell_type": "code",
   "execution_count": 2,
   "id": "dressed-proposal",
   "metadata": {
    "pycharm": {
     "name": "#%%\n"
    }
   },
   "outputs": [
    {
     "name": "stdout",
     "output_type": "stream",
     "text": [
      "928\t->\tCMXXVIII\n",
      "124\t->\tCXXIV\n",
      "239\t->\tCCXXXIX\n",
      "555\t->\tDLV\n",
      "33\t->\tXXXIII\n",
      "760\t->\tDCCLX\n"
     ]
    }
   ],
   "source": [
    "test_cases = [\n",
    "    928,    # CMXXVIII\n",
    "    124,    # CXXIV\n",
    "    239,    # CCXXXIX\n",
    "    555,    # DLV\n",
    "    33,     # XXXIII\n",
    "    760     # DCCLX\n",
    "]\n",
    "for case in test_cases:\n",
    "    print(f'{case}\\t->\\t{int_to_roman(case)}')"
   ]
  },
  {
   "cell_type": "markdown",
   "source": [
    "# Convert roman numeral to integer"
   ],
   "metadata": {
    "collapsed": false
   }
  },
  {
   "cell_type": "code",
   "execution_count": 3,
   "outputs": [],
   "source": [
    "# ordered differently - remove 'edge cases' first\n",
    "rti_dict = {\n",
    "    'CM': 900,\n",
    "    'CD': 400,\n",
    "    'XC': 90,\n",
    "    'XL': 40,\n",
    "    'IX': 9,\n",
    "    'IV': 4,\n",
    "    'M': 1000,\n",
    "    'D': 500,\n",
    "    'C': 100,\n",
    "    'L': 50,\n",
    "    'X': 10,\n",
    "    'V': 5,\n",
    "    'I': 1\n",
    "}\n",
    "\n",
    "def roman_to_int(roman):\n",
    "    result = 0\n",
    "    for roman_numeral, int_val in rti_dict.items():\n",
    "        result += int_val * roman.count(roman_numeral)\n",
    "        roman   = roman.replace(roman_numeral, \"\")\n",
    "    return result"
   ],
   "metadata": {
    "collapsed": false,
    "pycharm": {
     "name": "#%%\n"
    }
   }
  },
  {
   "cell_type": "markdown",
   "source": [
    "# Tests:"
   ],
   "metadata": {
    "collapsed": false
   }
  },
  {
   "cell_type": "code",
   "execution_count": 4,
   "outputs": [
    {
     "name": "stdout",
     "output_type": "stream",
     "text": [
      "CMXXVII\t\t->\t927\n",
      "CXXIV\t\t->\t124\n",
      "CCXXXIX\t\t->\t239\n",
      "DLV\t\t->\t555\n",
      "XXXIII\t\t->\t33\n",
      "DCCLX\t\t->\t760\n"
     ]
    }
   ],
   "source": [
    "test_cases = [\n",
    "    'CMXXVII',  #927\n",
    "    'CXXIV',    #124\n",
    "    'CCXXXIX',  #239\n",
    "    'DLV',      #555\n",
    "    'XXXIII',   #33\n",
    "    'DCCLX',    #760\n",
    "]\n",
    "for case in test_cases:\n",
    "    print(f'{case}\\t\\t->\\t{roman_to_int(case)}')"
   ],
   "metadata": {
    "collapsed": false,
    "pycharm": {
     "name": "#%%\n"
    }
   }
  }
 ],
 "metadata": {
  "kernelspec": {
   "display_name": "Python 3",
   "language": "python",
   "name": "python3"
  },
  "language_info": {
   "codemirror_mode": {
    "name": "ipython",
    "version": 3
   },
   "file_extension": ".py",
   "mimetype": "text/x-python",
   "name": "python",
   "nbconvert_exporter": "python",
   "pygments_lexer": "ipython3",
   "version": "3.9.2"
  }
 },
 "nbformat": 4,
 "nbformat_minor": 5
}